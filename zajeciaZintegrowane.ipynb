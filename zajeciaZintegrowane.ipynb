{
 "cells": [
  {
   "cell_type": "code",
   "execution_count": null,
   "metadata": {},
   "outputs": [],
   "source": [
    "import numpy as np\n",
    "import sympy as sp\n",
    "import matplotlib.pyplot as plt\n",
    "from sympy.utilities import lambdify\n",
    "from matplotlib.animation import FuncAnimation\n",
    "from IPython.display import  HTML"
   ]
  },
  {
   "cell_type": "code",
   "execution_count": null,
   "metadata": {},
   "outputs": [],
   "source": [
    "x = sp.Symbol('x',real=True)\n",
    "k = sp.Symbol('k',real=True, positive=True)\n",
    "a = sp.Symbol('a',real=True)\n",
    "n = sp.Symbol('n',integer=True, nonzero =True)\n",
    "m = sp.Symbol('m',integer=True, positive=True)\n",
    "h = sp.Symbol('hbar',integer=True, positive=True)\n",
    "t = sp.Symbol('t',integer=True, positive=True)\n",
    "psi = sp.Function('\\psi')\n",
    "\n",
    "psi(x), x, k, a, n, m , h, t"
   ]
  },
  {
   "cell_type": "code",
   "execution_count": null,
   "metadata": {},
   "outputs": [],
   "source": [
    "(x**2 + sp.sin(x)).diff(x)"
   ]
  },
  {
   "cell_type": "code",
   "execution_count": null,
   "metadata": {},
   "outputs": [],
   "source": [
    "psi(x).diff(x, x)"
   ]
  },
  {
   "cell_type": "code",
   "execution_count": null,
   "metadata": {},
   "outputs": [],
   "source": [
    "eq = sp.Eq(psi(x).diff(x, x), -k**2 * psi(x))\n",
    "eq"
   ]
  },
  {
   "cell_type": "code",
   "execution_count": null,
   "metadata": {},
   "outputs": [],
   "source": [
    "sol = sp.dsolve(eq,psi(x), ics = {psi(0):0})\n",
    "sol"
   ]
  },
  {
   "cell_type": "code",
   "execution_count": null,
   "metadata": {},
   "outputs": [],
   "source": [
    "plt.hlines(np.arange(1,10)**2,0,1)"
   ]
  },
  {
   "cell_type": "code",
   "execution_count": null,
   "metadata": {},
   "outputs": [],
   "source": [
    "sp.pi.evalf(100)"
   ]
  },
  {
   "cell_type": "code",
   "execution_count": null,
   "metadata": {},
   "outputs": [],
   "source": [
    "sol = sol.subs(k, n * sp.pi / a)\n",
    "sol"
   ]
  },
  {
   "cell_type": "code",
   "execution_count": null,
   "metadata": {},
   "outputs": [],
   "source": [
    "sol.lhs, sol.rhs**2"
   ]
  },
  {
   "cell_type": "code",
   "execution_count": null,
   "metadata": {},
   "outputs": [],
   "source": [
    "sp.integrate(sol.rhs**2,(x, 0, a))"
   ]
  },
  {
   "cell_type": "code",
   "execution_count": null,
   "metadata": {},
   "outputs": [],
   "source": [
    "sp.Symbol('C1')"
   ]
  },
  {
   "cell_type": "code",
   "execution_count": null,
   "metadata": {},
   "outputs": [],
   "source": [
    "sol = sol.subs(sp.Symbol('C1'), sp.sqrt(2/a))\n",
    "sol"
   ]
  },
  {
   "cell_type": "code",
   "execution_count": null,
   "metadata": {},
   "outputs": [],
   "source": [
    "E= n**2 * sp.pi**2 * h**2 / (2 * m * a**2)\n",
    "E"
   ]
  },
  {
   "cell_type": "code",
   "execution_count": null,
   "metadata": {},
   "outputs": [],
   "source": [
    "phi = sp.exp(-sp.I *E *t / h)\n",
    "phi"
   ]
  },
  {
   "cell_type": "code",
   "execution_count": null,
   "metadata": {},
   "outputs": [],
   "source": [
    "Psi = sol.rhs*phi\n",
    "Psi"
   ]
  },
  {
   "cell_type": "code",
   "execution_count": null,
   "metadata": {},
   "outputs": [],
   "source": [
    "Psi.subs({a:1, h:1, m:1})"
   ]
  },
  {
   "cell_type": "code",
   "execution_count": null,
   "metadata": {},
   "outputs": [],
   "source": [
    "Psif = lambdify((x, t, n), Psi.subs({m: 1, a: 1, h: 1}))"
   ]
  },
  {
   "cell_type": "code",
   "execution_count": null,
   "metadata": {},
   "outputs": [],
   "source": [
    "Psif(0.3,0.2,1), Psif(0.3,0.2,1).real, Psif(0.3,0.2,1).imag"
   ]
  },
  {
   "cell_type": "code",
   "execution_count": null,
   "metadata": {},
   "outputs": [],
   "source": [
    "xs= np.linspace(0,1,100)\n",
    "Psif(xs,0.2,1)"
   ]
  },
  {
   "cell_type": "code",
   "execution_count": null,
   "metadata": {},
   "outputs": [],
   "source": [
    "xs=np.linspace(0,1,1000)\n",
    "plt.grid(linestyle = \"--\")\n",
    "\n",
    "plt.plot(xs, Psif(xs, 0, 1).real)\n",
    "plt.plot(xs, Psif(xs, 0, 2).real)\n",
    "plt.plot(xs, Psif(xs, 0, 3).real)\n",
    "plt.plot(xs, Psif(xs, 0, 4).real)"
   ]
  },
  {
   "cell_type": "code",
   "execution_count": null,
   "metadata": {},
   "outputs": [],
   "source": [
    "# n=3\n",
    "# xs = np.linspace(0,1,1000)\n",
    "# fig = plt.figure()\n",
    "# plt.grid(linestyle=\"--\")\n",
    "# plot1, = plt.plot([],[])\n",
    "# plot2, = plt.plot([],[])\n",
    "# plt.xlim(0,1)\n",
    "# plt.ylim(-1.5,1.5)\n",
    "# plt.close\n",
    "\n",
    "# dt = 0.01\n",
    "\n",
    "# def frame(i):\n",
    "#     t=i*dt\n",
    "#     ys =Psif(xs, t, n)\n",
    "#     plot1.set_data(xs, ys.real)\n",
    "#     plot2.set_data(xs, ys.imag)\n",
    "#     return plot1, plot2\n",
    "\n",
    "# anim = FuncAnimation(fig, frame, 300, interval = 20, blit = True)\n",
    "# HTML(anim.to_jshtml())"
   ]
  },
  {
   "cell_type": "code",
   "execution_count": null,
   "metadata": {},
   "outputs": [],
   "source": [
    "\n",
    "# xs = np.linspace(0,1,1000)\n",
    "# fig = plt.figure()\n",
    "# plt.grid(linestyle=\"--\")\n",
    "# plot1, = plt.plot([],[])\n",
    "# plt.xlim(0,1)\n",
    "# plt.ylim(0,4)\n",
    "# plt.close\n",
    "\n",
    "# dt = 0.01\n",
    "\n",
    "# def frame(i):\n",
    "#     t=i*dt\n",
    "#     ys = ( Psif(xs, t, 1) + Psif(xs,t,2))/(np.sqrt(2))\n",
    "#     ys1 =np.abs(ys)**2\n",
    "#     plot1.set_data(xs, ys1)\n",
    "#     return plot1,\n",
    "\n",
    "# anim = FuncAnimation(fig, frame, 300, interval = 20, blit = True)\n",
    "# HTML(anim.to_jshtml())"
   ]
  },
  {
   "cell_type": "code",
   "execution_count": null,
   "metadata": {},
   "outputs": [],
   "source": [
    "sol"
   ]
  },
  {
   "cell_type": "code",
   "execution_count": null,
   "metadata": {},
   "outputs": [],
   "source": [
    "sol.rhs * x * sol.rhs"
   ]
  },
  {
   "cell_type": "code",
   "execution_count": null,
   "metadata": {},
   "outputs": [],
   "source": [
    "sp.integrate(sol.rhs * x * sol.rhs, (x, 0, a))"
   ]
  },
  {
   "cell_type": "code",
   "execution_count": null,
   "metadata": {},
   "outputs": [],
   "source": [
    "sp.integrate(sol.rhs * x**2 * sol.rhs, (x, 0, a)).simplify()"
   ]
  },
  {
   "attachments": {},
   "cell_type": "markdown",
   "metadata": {},
   "source": [
    "$$<p>=?$$"
   ]
  },
  {
   "cell_type": "code",
   "execution_count": null,
   "metadata": {},
   "outputs": [],
   "source": [
    "p = sp.integrate(sol.rhs * sol.rhs.diff(x), (x,0,a)).simplify()\n",
    "p"
   ]
  },
  {
   "attachments": {},
   "cell_type": "markdown",
   "metadata": {},
   "source": [
    "$$<p^2>=?$$"
   ]
  },
  {
   "cell_type": "code",
   "execution_count": null,
   "metadata": {},
   "outputs": [],
   "source": [
    "p2 =  -h**2 * sp.integrate(sol.rhs * sol.rhs.diff(x, 2), (x,0,a)).simplify()\n",
    "p2"
   ]
  }
 ],
 "metadata": {
  "kernelspec": {
   "display_name": "fiza",
   "language": "python",
   "name": "python3"
  },
  "language_info": {
   "codemirror_mode": {
    "name": "ipython",
    "version": 3
   },
   "file_extension": ".py",
   "mimetype": "text/x-python",
   "name": "python",
   "nbconvert_exporter": "python",
   "pygments_lexer": "ipython3",
   "version": "3.9.15"
  },
  "orig_nbformat": 4,
  "vscode": {
   "interpreter": {
    "hash": "b1995ba298b6de60ec53fd9baa8e7c8e21f1c13880bd02b927353a2a70e0c796"
   }
  }
 },
 "nbformat": 4,
 "nbformat_minor": 2
}
